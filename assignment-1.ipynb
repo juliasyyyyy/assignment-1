{
 "cells": [
  {
   "cell_type": "markdown",
   "id": "c03dea30",
   "metadata": {},
   "source": [
    "# 1."
   ]
  },
  {
   "cell_type": "code",
   "execution_count": null,
   "id": "565478c5",
   "metadata": {},
   "outputs": [],
   "source": [
    "\"def factorial(x):\n",
    "    '''Item 1. \n",
    "    Factorial. 1 point.\n",
    "    \n",
    "    Returns the factorial of an integer.\n",
    "    An integer's factorial is the product of the integer and all\n",
    "        integers below it.\n",
    "    Parameters\n",
    "    ----------\n",
    "    x: int\n",
    "        the integer whose factorial to return\n",
    "    Returns\n",
    "    -------\n",
    "    integer\n",
    "        the factorial of the argument\n",
    "    '''\n",
    "    # Write your code below this line"
   ]
  },
  {
   "cell_type": "code",
   "execution_count": 11,
   "id": "8c7d866d",
   "metadata": {
    "scrolled": false
   },
   "outputs": [
    {
     "name": "stdout",
     "output_type": "stream",
     "text": [
      "number 13\n",
      "6227020800\n"
     ]
    }
   ],
   "source": [
    "\n",
    "\n",
    "def factorial(number): \n",
    "    if number==1: \n",
    "        return(1)\n",
    "    \n",
    "    else: \n",
    "        return (number * factorial(number-1))\n",
    "    \n",
    "x=int(input(\"number \"))\n",
    "    \n",
    "result=factorial(x)\n",
    "    \n",
    "print(result)\n",
    "\n",
    "\n"
   ]
  },
  {
   "cell_type": "code",
   "execution_count": null,
   "id": "72931c1e",
   "metadata": {},
   "outputs": [],
   "source": []
  },
  {
   "cell_type": "markdown",
   "id": "09f7f4d7",
   "metadata": {},
   "source": [
    "# 2."
   ]
  },
  {
   "cell_type": "code",
   "execution_count": null,
   "id": "48734e55",
   "metadata": {},
   "outputs": [],
   "source": [
    "def classify_grade(number_grade):\n",
    "    '''Item 2.\n",
    "    Classify Grade. 2 points.\n",
    "    \n",
    "    Returns the letter grade equivalent of a number grade.\n",
    "    For this item, use these letter grade buckets:\n",
    "        A: 92-100\n",
    "        B+: 86-91.9\n",
    "        B: 80-85.9\n",
    "        C+: 74-79.9\n",
    "        C: 67-73.9\n",
    "        D: 60-66.9\n",
    "        F: 0-59.9\n",
    "    Parameters\n",
    "    ----------\n",
    "    number_grade: float\n",
    "        the number grade to convert into a letter grade.\n",
    "    Returns\n",
    "    -------\n",
    "    str\n",
    "        the letter grade equivalent of the number grade.\n",
    "    '''\n",
    "    # Write your code below this line\n"
   ]
  },
  {
   "cell_type": "code",
   "execution_count": 58,
   "id": "31287133",
   "metadata": {},
   "outputs": [
    {
     "name": "stdout",
     "output_type": "stream",
     "text": [
      "grade 67.3\n",
      "C\n"
     ]
    }
   ],
   "source": [
    "\n",
    "def classify_grade(number_grade):\n",
    "\n",
    "    if number_grade<60:return(\"F\")\n",
    "    elif number_grade<67:return(\"D\")\n",
    "    elif number_grade<74:return(\"C\")\n",
    "    elif number_grade<80:return(\"C+\")\n",
    "    elif number_grade<86:return(\"B\")\n",
    "    elif number_grade<92:return(\"B+\")\n",
    "    elif number_grade<101:return(\"A\")\n",
    "\n",
    "x=float(input(\"grade \"))\n",
    "    \n",
    "result=classify_grade(x)\n",
    "\n",
    "print(result)\n",
    "\n"
   ]
  },
  {
   "cell_type": "markdown",
   "id": "79561667",
   "metadata": {},
   "source": [
    "# 3."
   ]
  },
  {
   "cell_type": "code",
   "execution_count": null,
   "id": "16520f46",
   "metadata": {},
   "outputs": [],
   "source": [
    "def average_weight(item_quantity_1, item_weight_1, item_quantity_2, item_weight_2):\n",
    "    '''Item 3.\n",
    "    Average Weight. 3 points.\n",
    "    \n",
    "    You have purchased two bags of items. \n",
    "    The first bag contains one type of item, and the second bag contains another type.\n",
    "    Return the weighted average weight of the items.\n",
    "        \n",
    "    Parameters\n",
    "    ----------\n",
    "    item_quantity_1: int\n",
    "        the quantity of items in the first bag.\n",
    "    item_weight_1: float\n",
    "        the weight of each individual item in the first bag.\n",
    "    item_quantity_2: int\n",
    "        the quantity of items in the second bag.\n",
    "    item_weight_2: float\n",
    "        the weight of each individual item in the second bag.\n",
    "    Returns\n",
    "    -------\n",
    "    float\n",
    "        the weighted average weight of one item.\n",
    "    '''\n",
    "    # Write your code below this line"
   ]
  },
  {
   "cell_type": "code",
   "execution_count": 99,
   "id": "a61635d6",
   "metadata": {},
   "outputs": [
    {
     "name": "stdout",
     "output_type": "stream",
     "text": [
      "item 1 quantity: 2\n",
      "item 1 weight: 2\n",
      "item 2 quantity: 2\n",
      "item 2 weight: 2\n",
      "2.0\n"
     ]
    }
   ],
   "source": [
    " def average_weight(w,x,y,z):\n",
    "    return (((w*x)+(y*z))/(w+y))\n",
    "\n",
    "item_quantity_1=int(input(\"item 1 quantity: \"))\n",
    "item_weight_1=float(input(\"item 1 weight: \"))\n",
    "item_quantity_2=int(input(\"item 2 quantity: \"))\n",
    "item_weight_2=float(input(\"item 2 weight: \"))\n",
    "\n",
    "result=average_weight(item_quantity_1,item_weight_1,item_quantity_2,item_weight_2)\n",
    "\n",
    "print(result)"
   ]
  },
  {
   "cell_type": "markdown",
   "id": "db9a96af",
   "metadata": {},
   "source": []
  },
  {
   "cell_type": "markdown",
   "id": "d32b18f3",
   "metadata": {},
   "source": [
    "# 4."
   ]
  },
  {
   "cell_type": "code",
   "execution_count": null,
   "id": "17474fdf",
   "metadata": {},
   "outputs": [],
   "source": [
    "def string_sum(string):\n",
    "    '''Item 4.\n",
    "    String Sum. 3 points.\n",
    "    \n",
    "    Returns the sum of the digits provided in a string.\n",
    "    For this item:\n",
    "        1. Sum the digits contained in the string.\n",
    "        2. Ignore any non-digit characters contained in the string.\n",
    "    Parameters\n",
    "    ----------\n",
    "    string: str\n",
    "        a string that can contain any character.\n",
    "    Returns\n",
    "    -------\n",
    "    int\n",
    "        the sum of the digits contained in the string.\n",
    "    '''\n",
    "    # Write your code below this line"
   ]
  },
  {
   "cell_type": "code",
   "execution_count": 157,
   "id": "47af1c0b",
   "metadata": {},
   "outputs": [
    {
     "name": "stdout",
     "output_type": "stream",
     "text": [
      "string: fofhf45\n",
      "9\n"
     ]
    }
   ],
   "source": [
    "def string_sum(string):\n",
    "    a = 0\n",
    "    for x in string:\n",
    "        if x.isdigit() == True:\n",
    "            z = int(x)\n",
    "            a = a + z\n",
    "\n",
    "    return a\n",
    "\n",
    "y=str(input(\"string: \"))\n",
    "\n",
    "result=string_sum(y)\n",
    "\n",
    "print(result)\n",
    "\n",
    "     \n",
    "\n"
   ]
  },
  {
   "cell_type": "markdown",
   "id": "157b4b6e",
   "metadata": {},
   "source": []
  },
  {
   "cell_type": "markdown",
   "id": "cee38333",
   "metadata": {},
   "source": [
    "# 5. is this pythagorian  "
   ]
  },
  {
   "cell_type": "code",
   "execution_count": null,
   "id": "e861ecff",
   "metadata": {},
   "outputs": [],
   "source": [
    "def distance(x_1, y_1, x_2, y_2):\n",
    "    '''Item 5.\n",
    "    Distance. 3 points.\n",
    "    Returns the distance between two points.\n",
    "    To get the distance between two points:\n",
    "        1. Get the difference between the two x-coordinates\n",
    "        2. Get the difference between the two y-coordinates\n",
    "        3. Sum the previous two values\n",
    "        4. Return the square root of the sum\n",
    "    You may want to import the `math` library for this number.\n",
    "    Parameters\n",
    "    ----------\n",
    "    x_1: float\n",
    "        the first x-coordinate\n",
    "    y_1: float\n",
    "        the first y-coordinate\n",
    "    x_2: float\n",
    "        the second x-coordinate\n",
    "    y_2: float\n",
    "        the second y-coordinate\n",
    "    Returns\n",
    "    -------\n",
    "    float\n",
    "        the distance between the two coordinates\n",
    "    '''\n",
    "    # Write your code below this line\n"
   ]
  },
  {
   "cell_type": "code",
   "execution_count": 110,
   "id": "8400dc2d",
   "metadata": {},
   "outputs": [
    {
     "name": "stdout",
     "output_type": "stream",
     "text": [
      "first x-coordinate:1\n",
      "first y-coordinate:2\n",
      "second x-coordinate:1\n",
      "second y-coordinate:5\n",
      "3.0\n"
     ]
    }
   ],
   "source": [
    "import math\n",
    "def distance(x_1, y_1, x_2, y_2):\n",
    "    a=x_2-x_1\n",
    "    b=y_2-y_1\n",
    "    sum=a**2+b**2\n",
    "    return math.sqrt(sum)\n",
    "\n",
    "x1=float(input(\"first x-coordinate:\"))\n",
    "y1=float(input(\"first y-coordinate:\"))\n",
    "x2=float(input(\"second x-coordinate:\"))\n",
    "y2=float(input(\"second y-coordinate:\"))\n",
    "\n",
    "result=distance(x1,y1,x2,y2)\n",
    "\n",
    "print(result)"
   ]
  },
  {
   "cell_type": "code",
   "execution_count": null,
   "id": "1ee50218",
   "metadata": {},
   "outputs": [],
   "source": []
  },
  {
   "cell_type": "markdown",
   "id": "a3fe849a",
   "metadata": {},
   "source": [
    "# 6."
   ]
  },
  {
   "cell_type": "code",
   "execution_count": null,
   "id": "a37138d3",
   "metadata": {},
   "outputs": [],
   "source": [
    "def make_change(amount):\n",
    "    '''Item 6.\n",
    "    Make Change. 5 points.\n",
    "    \n",
    "    Return the combination of coins needed to make change for the given amount,\n",
    "        which is given in centavos.\n",
    "    For this item:\n",
    "        1. You can return 1 peso, 25 centavos, 10 centavos, 5 centavos, and 1 centavo coins.\n",
    "        2. Use the minimum number of coins possible.\n",
    "    Parameters\n",
    "    ----------\n",
    "    amount: int\n",
    "        the amount, in centavos, to make change for.\n",
    "    Returns\n",
    "    -------\n",
    "    str\n",
    "        the string representation of the change to be given.\n",
    "        Format it like this:\n",
    "            \"1P:{amount}/25C:{amount}/10C:{amount}/5C:{amount}/1C:{amount}\"\n",
    "    '''\n",
    "    # Write your code below this line"
   ]
  },
  {
   "cell_type": "code",
   "execution_count": 215,
   "id": "1f898324",
   "metadata": {},
   "outputs": [
    {
     "name": "stdout",
     "output_type": "stream",
     "text": [
      "enter the amount, in centavos, to make change for 125\n",
      " 1P: 1 / 25C: 1 / 10C: 0 / 5C: 0 / 1C: 0 \n"
     ]
    }
   ],
   "source": [
    "\n",
    "a = 0\n",
    "b = 0\n",
    "c = 0\n",
    "d = 0\n",
    "e = 0\n",
    "i= int(input(\"enter the amount, in centavos, to make change for \"))\n",
    "\n",
    "\n",
    "if i>=100:\n",
    "        a = i/100\n",
    "        i %= 100\n",
    "\n",
    "if i>=25:\n",
    "    b = i/25\n",
    "    i %= 25\n",
    "    \n",
    "if i>=10:\n",
    "    c = i/10\n",
    "    i%=10\n",
    "    \n",
    "if i>=5:\n",
    "    d = i/5\n",
    "    i %= 5\n",
    "    \n",
    "if i>0:\n",
    "    e = i/1\n",
    "    i = 0\n",
    "\n",
    "    \n",
    "print (\" 1P: %i / 25C: %i / 10C: %i / 5C: %i / 1C: %i \" %(a , b, c, d, e))\n"
   ]
  },
  {
   "cell_type": "code",
   "execution_count": null,
   "id": "2ac31266",
   "metadata": {},
   "outputs": [],
   "source": []
  },
  {
   "cell_type": "code",
   "execution_count": null,
   "id": "70ac4d82",
   "metadata": {},
   "outputs": [],
   "source": []
  },
  {
   "cell_type": "code",
   "execution_count": null,
   "id": "3c2e9e0a",
   "metadata": {},
   "outputs": [],
   "source": []
  }
 ],
 "metadata": {
  "kernelspec": {
   "display_name": "Python 3 (ipykernel)",
   "language": "python",
   "name": "python3"
  },
  "language_info": {
   "codemirror_mode": {
    "name": "ipython",
    "version": 3
   },
   "file_extension": ".py",
   "mimetype": "text/x-python",
   "name": "python",
   "nbconvert_exporter": "python",
   "pygments_lexer": "ipython3",
   "version": "3.9.7"
  }
 },
 "nbformat": 4,
 "nbformat_minor": 5
}
